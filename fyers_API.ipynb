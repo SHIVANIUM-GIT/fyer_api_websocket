{
 "cells": [
  {
   "cell_type": "markdown",
   "metadata": {},
   "source": [
    "# lib import\n"
   ]
  },
  {
   "cell_type": "code",
   "execution_count": null,
   "metadata": {
    "scrolled": true
   },
   "outputs": [],
   "source": [
    "from datetime import date\n",
    "from fyers_api import fyersModel\n",
    "from fyers_api import accessToken\n",
    "import os\n",
    "from dotenv import load_dotenv\n",
    "from fyers_api.Websocket import ws\n",
    "import datetime as dt\n",
    "load_dotenv()"
   ]
  },
  {
   "cell_type": "markdown",
   "metadata": {},
   "source": [
    "# details"
   ]
  },
  {
   "cell_type": "code",
   "execution_count": null,
   "metadata": {},
   "outputs": [],
   "source": [
    "client_id = os.getenv('client_id')\n",
    "secret_key = os.getenv('secret_key')\n",
    "redirect_uri = os.getenv('redirect_uri')\n",
    "\n",
    "today = date.today().strftime(\"%Y-%m-%d\")\n",
    "\n",
    "\n",
    "def get_access_token():\n",
    "    access = \"\"\n",
    "    if not os.path.exists(\"./authcode\"):\n",
    "        print(\"Creating authcode directory\")\n",
    "        os.makedirs(\"./authcode\")\n",
    "\n",
    "    if not os.path.exists(f\"authcode/{today}.txt\"):\n",
    "        session = accessToken.SessionModel(client_id=client_id, secret_key=secret_key,\n",
    "                                           redirect_uri=redirect_uri, response_type=\"code\", grant_type=\"authorization_code\")\n",
    "        response = session.generate_authcode()\n",
    "        print(\"Login Url : \", response)\n",
    "        auth_code = input(\"Enter Auth Code : \")\n",
    "        session.set_token(auth_code)\n",
    "        access_token = session.generate_token()[\"access_token\"]\n",
    "        with open(f\"authcode/{today}.txt\", \"w\") as f:\n",
    "            f.write(access_token)\n",
    "    else:\n",
    "        with open(f\"authcode/{today}.txt\", \"r\") as f:\n",
    "            access = f.read()\n",
    "    return access\n",
    "access_token = get_access_token()"
   ]
  },
  {
   "cell_type": "markdown",
   "metadata": {},
   "source": [
    "# for the profile"
   ]
  },
  {
   "cell_type": "code",
   "execution_count": null,
   "metadata": {},
   "outputs": [],
   "source": [
    "fyers = fyersModel.FyersModel(\n",
    "    client_id=client_id, token=access_token, log_path=os.getcwd())\n",
    "\n",
    "print(fyers.get_profile())\n",
    "print(fyers.funds())\n",
    "print(fyers.holdings())\n"
   ]
  },
  {
   "cell_type": "markdown",
   "metadata": {},
   "source": [
    "# for the history data"
   ]
  },
  {
   "cell_type": "code",
   "execution_count": null,
   "metadata": {},
   "outputs": [],
   "source": [
    " data = {\"symbol\": \"NSE:NIFTYBANK-INDEX\", \"resolution\": \"5\", \"date_format\": \"1\",\n",
    "         \"range_from\": \"2023-01-18\", \"range_to\": \"2023-01-18\", \"cont_flag\": \"1\"}\n",
    "\n",
    " print(fyers.history(data))"
   ]
  },
  {
   "cell_type": "markdown",
   "metadata": {},
   "source": [
    "# for the live tick data "
   ]
  },
  {
   "cell_type": "code",
   "execution_count": null,
   "metadata": {},
   "outputs": [],
   "source": [
    "newToken = f\"{client_id}:{access_token}\"\n",
    "symbol = [\"NSE:NIFTYBANK-INDEX\"]\n",
    "cws = ws.FyersSocket(access_token=newToken,\n",
    "                     run_background=False, log_path=os.getcwd())\n",
    "\n",
    "def on_ticks(msg):\n",
    "    script = msg[0]['symbol']\n",
    "    ltp = msg[0]['ltp']\n",
    "    high = msg[0]['high_price']\n",
    "    low = msg[0]['low_price']\n",
    "    ltt = dt.datetime.fromtimestamp(msg[0]['timestamp'])\n",
    "    print(\n",
    "        f\"Script:{script}  ,  ltp:{ltp}  ,  HIGH:{high} ,  LOW:{low},  ltt:{ltt}\")\n",
    "\n",
    "\n",
    "cws.websocket_data = on_ticks\n",
    "cws.subscribe(symbol=symbol, data_type=\"symbolData\")\n",
    "cws.keep_running()\n",
    "cws.unsubscribe(symbol=symbol)\n"
   ]
  }
 ],
 "metadata": {
  "kernelspec": {
   "display_name": "Python 3 (ipykernel)",
   "language": "python",
   "name": "python3"
  },
  "language_info": {
   "codemirror_mode": {
    "name": "ipython",
    "version": 3
   },
   "file_extension": ".py",
   "mimetype": "text/x-python",
   "name": "python",
   "nbconvert_exporter": "python",
   "pygments_lexer": "ipython3",
   "version": "3.10.9 (tags/v3.10.9:1dd9be6, Dec  6 2022, 20:01:21) [MSC v.1934 64 bit (AMD64)]"
  },
  "vscode": {
   "interpreter": {
    "hash": "98caf8d6c9a4cec933d8124168201de6299deb304dde74c2401b5c78346afc36"
   }
  }
 },
 "nbformat": 4,
 "nbformat_minor": 2
}
