{
 "cells": [
  {
   "cell_type": "markdown",
   "metadata": {},
   "source": [
    "### 1 - Import test data"
   ]
  },
  {
   "cell_type": "code",
   "execution_count": 1,
   "metadata": {},
   "outputs": [
    {
     "ename": "ModuleNotFoundError",
     "evalue": "No module named 'yfinance'",
     "output_type": "error",
     "traceback": [
      "\u001b[1;31m---------------------------------------------------------------------------\u001b[0m",
      "\u001b[1;31mModuleNotFoundError\u001b[0m                       Traceback (most recent call last)",
      "Cell \u001b[1;32mIn[1], line 1\u001b[0m\n\u001b[1;32m----> 1\u001b[0m \u001b[38;5;28;01mimport\u001b[39;00m \u001b[38;5;21;01myfinance\u001b[39;00m \u001b[38;5;28;01mas\u001b[39;00m \u001b[38;5;21;01myf\u001b[39;00m\n\u001b[0;32m      2\u001b[0m \u001b[38;5;28;01mimport\u001b[39;00m \u001b[38;5;21;01mpandas\u001b[39;00m \u001b[38;5;28;01mas\u001b[39;00m \u001b[38;5;21;01mpd\u001b[39;00m\n\u001b[0;32m      4\u001b[0m dataF \u001b[38;5;241m=\u001b[39m yf\u001b[38;5;241m.\u001b[39mdownload(\u001b[38;5;124m\"\u001b[39m\u001b[38;5;124mEURUSD=X\u001b[39m\u001b[38;5;124m\"\u001b[39m, start\u001b[38;5;241m=\u001b[39m\u001b[38;5;124m\"\u001b[39m\u001b[38;5;124m2022-12-17\u001b[39m\u001b[38;5;124m\"\u001b[39m, end\u001b[38;5;241m=\u001b[39m\u001b[38;5;124m\"\u001b[39m\u001b[38;5;124m2023-01-17\u001b[39m\u001b[38;5;124m\"\u001b[39m, interval\u001b[38;5;241m=\u001b[39m\u001b[38;5;124m'\u001b[39m\u001b[38;5;124m15m\u001b[39m\u001b[38;5;124m'\u001b[39m)\n",
      "\u001b[1;31mModuleNotFoundError\u001b[0m: No module named 'yfinance'"
     ]
    }
   ],
   "source": [
    "import yfinance as yf\n",
    "import pandas as pd\n",
    "\n",
    "dataF = yf.download(\"EURUSD=X\", start=\"2022-12-17\", end=\"2023-01-17\", interval='15m')\n",
    "dataF.iloc[:,:]\n",
    "#dataF.Open.iloc"
   ]
  },
  {
   "cell_type": "markdown",
   "metadata": {},
   "source": [
    "### 2 - Define your signal function"
   ]
  },
  {
   "cell_type": "code",
   "execution_count": null,
   "metadata": {},
   "outputs": [],
   "source": [
    "def signal_generator(df):\n",
    "    open = df.Open.iloc[-1]\n",
    "    close = df.Close.iloc[-1]\n",
    "    previous_open = df.Open.iloc[-2]\n",
    "    previous_close = df.Close.iloc[-2]\n",
    "    \n",
    "    # Bearish Pattern\n",
    "    if (open>close and \n",
    "    previous_open<previous_close and \n",
    "    close<previous_open and\n",
    "    open>=previous_close):\n",
    "        return 1\n",
    "\n",
    "    # Bullish Pattern\n",
    "    elif (open<close and \n",
    "        previous_open>previous_close and \n",
    "        close>previous_open and\n",
    "        open<=previous_close):\n",
    "        return 2\n",
    "    \n",
    "    # No clear pattern\n",
    "    else:\n",
    "        return 0\n",
    "\n",
    "signal = []\n",
    "signal.append(0)\n",
    "for i in range(1,len(dataF)):\n",
    "    df = dataF[i-1:i+1]\n",
    "    signal.append(signal_generator(df))\n",
    "#signal_generator(data)\n",
    "dataF[\"signal\"] = signal"
   ]
  },
  {
   "cell_type": "code",
   "execution_count": null,
   "metadata": {},
   "outputs": [
    {
     "data": {
      "text/plain": [
       "0    3527\n",
       "2     178\n",
       "1     172\n",
       "Name: signal, dtype: int64"
      ]
     },
     "execution_count": 4,
     "metadata": {},
     "output_type": "execute_result"
    }
   ],
   "source": [
    "dataF.signal.value_counts()\n",
    "#dataF.iloc[:, :]"
   ]
  },
  {
   "cell_type": "markdown",
   "metadata": {},
   "source": [
    "### 3 - Connect to the market and execute trades"
   ]
  },
  {
   "cell_type": "code",
   "execution_count": null,
   "metadata": {},
   "outputs": [],
   "source": [
    "from apscheduler.schedulers.blocking import BlockingScheduler\n",
    "from oandapyV20 import API\n",
    "import oandapyV20.endpoints.orders as orders\n",
    "from oandapyV20.contrib.requests import MarketOrderRequest\n",
    "from oanda_candles import Pair, Gran, CandleClient\n",
    "from oandapyV20.contrib.requests import TakeProfitDetails, StopLossDetails"
   ]
  },
  {
   "cell_type": "code",
   "execution_count": null,
   "metadata": {},
   "outputs": [
    {
     "name": "stdout",
     "output_type": "stream",
     "text": [
      "True\n",
      "True\n",
      "True\n"
     ]
    }
   ],
   "source": [
    "from config import access_token, accountID\n",
    "def get_candles(n):\n",
    "    #access_token='XXXXXXX'#you need token here generated from OANDA account\n",
    "    client = CandleClient(access_token, real=False)\n",
    "    collector = client.get_collector(Pair.EUR_USD, Gran.M15)\n",
    "    candles = collector.grab(n)\n",
    "    return candles\n",
    "\n",
    "candles = get_candles(3)\n",
    "for candle in candles:\n",
    "    print(float(str(candle.bid.o))>1)\n"
   ]
  },
  {
   "cell_type": "code",
   "execution_count": null,
   "metadata": {},
   "outputs": [],
   "source": [
    "def trading_job():\n",
    "    candles = get_candles(3)\n",
    "    dfstream = pd.DataFrame(columns=['Open','Close','High','Low'])\n",
    "    \n",
    "    i=0\n",
    "    for candle in candles:\n",
    "        dfstream.loc[i, ['Open']] = float(str(candle.bid.o))\n",
    "        dfstream.loc[i, ['Close']] = float(str(candle.bid.c))\n",
    "        dfstream.loc[i, ['High']] = float(str(candle.bid.h))\n",
    "        dfstream.loc[i, ['Low']] = float(str(candle.bid.l))\n",
    "        i=i+1\n",
    "\n",
    "    dfstream['Open'] = dfstream['Open'].astype(float)\n",
    "    dfstream['Close'] = dfstream['Close'].astype(float)\n",
    "    dfstream['High'] = dfstream['High'].astype(float)\n",
    "    dfstream['Low'] = dfstream['Low'].astype(float)\n",
    "\n",
    "    signal = signal_generator(dfstream.iloc[:-1,:])#\n",
    "    \n",
    "    # EXECUTING ORDERS\n",
    "    #accountID = \"XXXXXXX\" #your account ID here\n",
    "    client = API(access_token)\n",
    "         \n",
    "    SLTPRatio = 2.\n",
    "    previous_candleR = abs(dfstream['High'].iloc[-2]-dfstream['Low'].iloc[-2])\n",
    "    \n",
    "    SLBuy = float(str(candle.bid.o))-previous_candleR\n",
    "    SLSell = float(str(candle.bid.o))+previous_candleR\n",
    "\n",
    "    TPBuy = float(str(candle.bid.o))+previous_candleR*SLTPRatio\n",
    "    TPSell = float(str(candle.bid.o))-previous_candleR*SLTPRatio\n",
    "    \n",
    "    print(dfstream.iloc[:-1,:])\n",
    "    print(TPBuy, \"  \", SLBuy, \"  \", TPSell, \"  \", SLSell)\n",
    "    signal = 2\n",
    "    #Sell\n",
    "    if signal == 1:\n",
    "        mo = MarketOrderRequest(instrument=\"EUR_USD\", units=-1000, takeProfitOnFill=TakeProfitDetails(price=TPSell).data, stopLossOnFill=StopLossDetails(price=SLSell).data)\n",
    "        r = orders.OrderCreate(accountID, data=mo.data)\n",
    "        rv = client.request(r)\n",
    "        print(rv)\n",
    "    #Buy\n",
    "    elif signal == 2:\n",
    "        mo = MarketOrderRequest(instrument=\"EUR_USD\", units=1000, takeProfitOnFill=TakeProfitDetails(price=TPBuy).data, stopLossOnFill=StopLossDetails(price=SLBuy).data)\n",
    "        r = orders.OrderCreate(accountID, data=mo.data)\n",
    "        rv = client.request(r)\n",
    "        print(rv)"
   ]
  },
  {
   "cell_type": "markdown",
   "metadata": {},
   "source": [
    "### 4 - Executing orders automatically with a scheduler"
   ]
  },
  {
   "cell_type": "code",
   "execution_count": null,
   "metadata": {},
   "outputs": [],
   "source": [
    "trading_job()\n",
    "\n",
    "#scheduler = BlockingScheduler()\n",
    "#scheduler.add_job(trading_job, 'cron', day_of_week='mon-fri', hour='00-23', minute='1,16,31,46', start_date='2022-01-12 12:00:00', timezone='America/Chicago')\n",
    "#scheduler.start()"
   ]
  },
  {
   "cell_type": "code",
   "execution_count": null,
   "metadata": {},
   "outputs": [],
   "source": []
  }
 ],
 "metadata": {
  "kernelspec": {
   "display_name": "Python 3 (ipykernel)",
   "language": "python",
   "name": "python3"
  },
  "language_info": {
   "codemirror_mode": {
    "name": "ipython",
    "version": 3
   },
   "file_extension": ".py",
   "mimetype": "text/x-python",
   "name": "python",
   "nbconvert_exporter": "python",
   "pygments_lexer": "ipython3",
   "version": "3.10.9"
  },
  "vscode": {
   "interpreter": {
    "hash": "98caf8d6c9a4cec933d8124168201de6299deb304dde74c2401b5c78346afc36"
   }
  }
 },
 "nbformat": 4,
 "nbformat_minor": 2
}
